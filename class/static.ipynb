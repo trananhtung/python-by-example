{
 "cells": [
  {
   "cell_type": "code",
   "execution_count": 4,
   "metadata": {},
   "outputs": [
    {
     "name": "stdout",
     "output_type": "stream",
     "text": [
      "Show count:  2\n",
      "Show count:  2\n",
      "Show count:  2\n"
     ]
    }
   ],
   "source": [
    "# create class and method that count the number of instances created\n",
    "class Student:\n",
    "    count = 0\n",
    "\n",
    "    def __init__(self, name, age):\n",
    "        self.name = name\n",
    "        self.age = age\n",
    "        Student.count += 1\n",
    "\n",
    "    def display(self):\n",
    "        print(self.name, self.age)\n",
    "\n",
    "    def showCount(self):\n",
    "        print(\"Total number of instances created: \", Student.count)\n",
    "        \n",
    "        \n",
    "s1 = Student(\"John\", 23)\n",
    "s2 = Student(\"Jane\", 24)\n",
    "\n",
    "print(\"Show count: \", s1.count)\n",
    "print(\"Show count: \", s2.count)\n",
    "print(\"Show count: \", Student.count)"
   ]
  }
 ],
 "metadata": {
  "kernelspec": {
   "display_name": "Python 3",
   "language": "python",
   "name": "python3"
  },
  "language_info": {
   "codemirror_mode": {
    "name": "ipython",
    "version": 3
   },
   "file_extension": ".py",
   "mimetype": "text/x-python",
   "name": "python",
   "nbconvert_exporter": "python",
   "pygments_lexer": "ipython3",
   "version": "3.10.6"
  },
  "orig_nbformat": 4
 },
 "nbformat": 4,
 "nbformat_minor": 2
}
