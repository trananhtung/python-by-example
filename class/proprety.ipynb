{
 "cells": [
  {
   "cell_type": "code",
   "execution_count": 3,
   "metadata": {},
   "outputs": [
    {
     "name": "stdout",
     "output_type": "stream",
     "text": [
      "Adam\n",
      "John\n"
     ]
    },
    {
     "ename": "TypeError",
     "evalue": "Expected a string",
     "output_type": "error",
     "traceback": [
      "\u001b[0;31m---------------------------------------------------------------------------\u001b[0m",
      "\u001b[0;31mTypeError\u001b[0m                                 Traceback (most recent call last)",
      "Cell \u001b[0;32mIn[3], line 28\u001b[0m\n\u001b[1;32m     24\u001b[0m p\u001b[39m.\u001b[39mname \u001b[39m=\u001b[39m \u001b[39m\"\u001b[39m\u001b[39mJohn\u001b[39m\u001b[39m\"\u001b[39m\n\u001b[1;32m     26\u001b[0m \u001b[39mprint\u001b[39m(p\u001b[39m.\u001b[39mname)\n\u001b[0;32m---> 28\u001b[0m p\u001b[39m.\u001b[39;49mname \u001b[39m=\u001b[39m \u001b[39m42\u001b[39m\n",
      "Cell \u001b[0;32mIn[3], line 10\u001b[0m, in \u001b[0;36mPerson.set_name\u001b[0;34m(self, value)\u001b[0m\n\u001b[1;32m      8\u001b[0m \u001b[39mdef\u001b[39;00m \u001b[39mset_name\u001b[39m(\u001b[39mself\u001b[39m, value):\n\u001b[1;32m      9\u001b[0m     \u001b[39mif\u001b[39;00m \u001b[39mnot\u001b[39;00m \u001b[39misinstance\u001b[39m(value, \u001b[39mstr\u001b[39m) \u001b[39mor\u001b[39;00m \u001b[39mlen\u001b[39m(value) \u001b[39m==\u001b[39m \u001b[39m0\u001b[39m:\n\u001b[0;32m---> 10\u001b[0m         \u001b[39mraise\u001b[39;00m \u001b[39mTypeError\u001b[39;00m(\u001b[39m\"\u001b[39m\u001b[39mExpected a string\u001b[39m\u001b[39m\"\u001b[39m)\n\u001b[1;32m     12\u001b[0m     \u001b[39mself\u001b[39m\u001b[39m.\u001b[39m_name \u001b[39m=\u001b[39m value\n",
      "\u001b[0;31mTypeError\u001b[0m: Expected a string"
     ]
    }
   ],
   "source": [
    "class Person:\n",
    "    def __init__(self, name):\n",
    "        self._name = name\n",
    "\n",
    "    def get_name(self):\n",
    "        return self._name\n",
    "\n",
    "    def set_name(self, value):\n",
    "        if not isinstance(value, str) or len(value) == 0:\n",
    "            raise TypeError(\"Expected a string\")\n",
    "\n",
    "        self._name = value\n",
    "\n",
    "    def del_name(self):\n",
    "        del self._name\n",
    "\n",
    "    name = property(fget=get_name, fset=set_name)\n",
    "\n",
    "\n",
    "p = Person(\"Adam\")\n",
    "\n",
    "print(p.name)\n",
    "\n",
    "p.name = \"John\"\n",
    "\n",
    "print(p.name)\n",
    "\n",
    "p.name = 42"
   ]
  },
  {
   "cell_type": "code",
   "execution_count": 9,
   "metadata": {},
   "outputs": [
    {
     "name": "stdout",
     "output_type": "stream",
     "text": [
      "{'name': 'Python', 'creator': 'Guido van Rossum', '_version': 1.0, '_update_counter': 0}\n",
      "{'name': 'Java', 'creator': 'James Gosling', '_version': 1.0, '_update_counter': 0}\n",
      "After update:\n",
      "Python, Version: 1.1, 1\n",
      "Java, Version: 1.8, 1\n"
     ]
    },
    {
     "ename": "AttributeError",
     "evalue": "Cannot delete attribute",
     "output_type": "error",
     "traceback": [
      "\u001b[0;31m---------------------------------------------------------------------------\u001b[0m",
      "\u001b[0;31mAttributeError\u001b[0m                            Traceback (most recent call last)",
      "Cell \u001b[0;32mIn[9], line 43\u001b[0m\n\u001b[1;32m     40\u001b[0m \u001b[39mprint\u001b[39m(\u001b[39mf\u001b[39m\u001b[39m'\u001b[39m\u001b[39m{\u001b[39;00mpython\u001b[39m.\u001b[39mname\u001b[39m}\u001b[39;00m\u001b[39m, \u001b[39m\u001b[39m{\u001b[39;00mpython\u001b[39m.\u001b[39mversion\u001b[39m}\u001b[39;00m\u001b[39m, \u001b[39m\u001b[39m{\u001b[39;00mpython\u001b[39m.\u001b[39mupdate_counter\u001b[39m}\u001b[39;00m\u001b[39m'\u001b[39m)\n\u001b[1;32m     41\u001b[0m \u001b[39mprint\u001b[39m(\u001b[39mf\u001b[39m\u001b[39m'\u001b[39m\u001b[39m{\u001b[39;00mjava\u001b[39m.\u001b[39mname\u001b[39m}\u001b[39;00m\u001b[39m, \u001b[39m\u001b[39m{\u001b[39;00mjava\u001b[39m.\u001b[39mversion\u001b[39m}\u001b[39;00m\u001b[39m, \u001b[39m\u001b[39m{\u001b[39;00mjava\u001b[39m.\u001b[39mupdate_counter\u001b[39m}\u001b[39;00m\u001b[39m'\u001b[39m)\n\u001b[0;32m---> 43\u001b[0m \u001b[39mdel\u001b[39;00m python\u001b[39m.\u001b[39mversion\n",
      "Cell \u001b[0;32mIn[9], line 23\u001b[0m, in \u001b[0;36mLanguage.version\u001b[0;34m(self)\u001b[0m\n\u001b[1;32m     21\u001b[0m \u001b[39m@version\u001b[39m\u001b[39m.\u001b[39mdeleter\n\u001b[1;32m     22\u001b[0m \u001b[39mdef\u001b[39;00m \u001b[39mversion\u001b[39m(\u001b[39mself\u001b[39m):\n\u001b[0;32m---> 23\u001b[0m   \u001b[39mraise\u001b[39;00m \u001b[39mAttributeError\u001b[39;00m(\u001b[39m\"\u001b[39m\u001b[39mCannot delete attribute\u001b[39m\u001b[39m\"\u001b[39m)\n",
      "\u001b[0;31mAttributeError\u001b[0m: Cannot delete attribute"
     ]
    }
   ],
   "source": [
    "class Language:\n",
    "    def __init__(self, name, creator):\n",
    "        self.name = name\n",
    "        self.creator = creator\n",
    "        self._version = 1.0\n",
    "        self._update_counter = 0\n",
    "\n",
    "    @property\n",
    "    def version(self):\n",
    "        return self._version\n",
    "\n",
    "    @property\n",
    "    def update_counter(self):\n",
    "        return self._update_counter\n",
    "\n",
    "    @version.setter\n",
    "    def version(self, new_version):\n",
    "        self._version = new_version\n",
    "        self._update_counter += 1\n",
    "\n",
    "    @version.deleter\n",
    "    def version(self):\n",
    "        raise AttributeError(\"Cannot delete attribute\")\n",
    "\n",
    "    @version.getter\n",
    "    def version(self):\n",
    "        return f\"Version: {self._version}\"\n",
    "\n",
    "\n",
    "python = Language(\"Python\", \"Guido van Rossum\")\n",
    "java = Language(\"Java\", \"James Gosling\")\n",
    "\n",
    "print(python.__dict__)\n",
    "print(java.__dict__)\n",
    "\n",
    "python.version = 1.1\n",
    "java.version = 1.8\n",
    "\n",
    "print(\"After update:\")\n",
    "print(f\"{python.name}, {python.version}, {python.update_counter}\")\n",
    "print(f\"{java.name}, {java.version}, {java.update_counter}\")\n",
    "\n",
    "del python.version"
   ]
  },
  {
   "cell_type": "markdown",
   "metadata": {},
   "source": [
    "### Read only property and cached property"
   ]
  },
  {
   "cell_type": "code",
   "execution_count": 16,
   "metadata": {},
   "outputs": [
    {
     "name": "stdout",
     "output_type": "stream",
     "text": [
      "Area: 25\n",
      "Perimeter: 20\n",
      "try to change side\n",
      "Area: 100\n",
      "Perimeter: 40\n"
     ]
    }
   ],
   "source": [
    "class Square:\n",
    "    def __init__(self, side):\n",
    "        self._side = side\n",
    "        self._area = None\n",
    "        self._perimeter = None\n",
    "\n",
    "    @property\n",
    "    def side(self):\n",
    "        return self._side\n",
    "\n",
    "    @side.setter\n",
    "    def side(self, value):\n",
    "        self._side = value\n",
    "        self._area = None\n",
    "        self._perimeter = None\n",
    "\n",
    "    @property\n",
    "    def area(self):\n",
    "        if self._area is None:\n",
    "            self._area = self._side**2\n",
    "        return self._area\n",
    "\n",
    "    @property\n",
    "    def perimeter(self):\n",
    "        if self._perimeter is None:\n",
    "            self._perimeter = self._side * 4\n",
    "        return self._perimeter\n",
    "\n",
    "\n",
    "square = Square(5)\n",
    "\n",
    "print(f\"Area: {square.area}\")\n",
    "print(f\"Perimeter: {square.perimeter}\")\n",
    "\n",
    "print(\"try to change side\")\n",
    "square.side = 10\n",
    "print(f\"Area: {square.area}\")\n",
    "print(f\"Perimeter: {square.perimeter}\")"
   ]
  },
  {
   "cell_type": "code",
   "execution_count": 17,
   "metadata": {},
   "outputs": [
    {
     "name": "stdout",
     "output_type": "stream",
     "text": [
      "try to change area\n"
     ]
    },
    {
     "ename": "AttributeError",
     "evalue": "can't set attribute 'area'",
     "output_type": "error",
     "traceback": [
      "\u001b[0;31m---------------------------------------------------------------------------\u001b[0m",
      "\u001b[0;31mAttributeError\u001b[0m                            Traceback (most recent call last)",
      "Cell \u001b[0;32mIn[17], line 2\u001b[0m\n\u001b[1;32m      1\u001b[0m \u001b[39mprint\u001b[39m(\u001b[39m\"\u001b[39m\u001b[39mtry to change area\u001b[39m\u001b[39m\"\u001b[39m)\n\u001b[0;32m----> 2\u001b[0m square\u001b[39m.\u001b[39;49marea \u001b[39m=\u001b[39m \u001b[39m200\u001b[39m\n\u001b[1;32m      3\u001b[0m \u001b[39mprint\u001b[39m(\u001b[39mf\u001b[39m\u001b[39m'\u001b[39m\u001b[39mArea: \u001b[39m\u001b[39m{\u001b[39;00msquare\u001b[39m.\u001b[39marea\u001b[39m}\u001b[39;00m\u001b[39m'\u001b[39m)\n",
      "\u001b[0;31mAttributeError\u001b[0m: can't set attribute 'area'"
     ]
    }
   ],
   "source": [
    "print(\"try to change area\")\n",
    "square.area = 200\n",
    "print(f\"Area: {square.area}\")"
   ]
  },
  {
   "cell_type": "code",
   "execution_count": null,
   "metadata": {},
   "outputs": [],
   "source": []
  }
 ],
 "metadata": {
  "kernelspec": {
   "display_name": "Python 3",
   "language": "python",
   "name": "python3"
  },
  "language_info": {
   "codemirror_mode": {
    "name": "ipython",
    "version": 3
   },
   "file_extension": ".py",
   "mimetype": "text/x-python",
   "name": "python",
   "nbconvert_exporter": "python",
   "pygments_lexer": "ipython3",
   "version": "3.10.6"
  },
  "orig_nbformat": 4
 },
 "nbformat": 4,
 "nbformat_minor": 2
}
