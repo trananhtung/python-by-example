{
 "cells": [
  {
   "attachments": {},
   "cell_type": "markdown",
   "id": "df92ce80",
   "metadata": {},
   "source": [
    "### Write a decorator to measure the execution time of any given function."
   ]
  },
  {
   "cell_type": "code",
   "execution_count": null,
   "id": "799e65e3",
   "metadata": {},
   "outputs": [],
   "source": [
    "import time\n",
    "\n",
    "def measure_time(func):\n",
    "    def wrapper(*args, **kwargs):\n",
    "        start_time = time.time()\n",
    "        result = func(*args, **kwargs)\n",
    "        end_time = time.time()\n",
    "        execution_time = end_time - start_time\n",
    "        print(f\"Excute time {func.__name__}: {execution_time} s\")\n",
    "        return result\n",
    "    return wrapper\n",
    "\n",
    "@measure_time\n",
    "def my_function():\n",
    "    time.sleep(2)\n",
    "\n",
    "my_function()\n",
    "print(my_function.__name__)"
   ]
  },
  {
   "attachments": {},
   "cell_type": "markdown",
   "id": "c12019f5",
   "metadata": {},
   "source": [
    "### Write a decorator to check if the input of a function is an integer or not."
   ]
  },
  {
   "cell_type": "code",
   "execution_count": 1,
   "id": "0319d83d-037e-4a05-a508-db33c8418d25",
   "metadata": {},
   "outputs": [
    {
     "name": "stdout",
     "output_type": "stream",
     "text": [
      "6\n"
     ]
    }
   ],
   "source": [
    "def check_integer_input(func):\n",
    "    def wrapper(*args, **kwargs):\n",
    "        for arg in args:\n",
    "            if not isinstance(arg, int):\n",
    "                raise TypeError(\"Input must be an integer!\")\n",
    "        return func(*args, **kwargs)\n",
    "    return wrapper\n",
    "\n",
    "@check_integer_input\n",
    "def add_numbers(a, b):\n",
    "    return a + b\n",
    "\n",
    "print(add_numbers(3, 4))    # Output: 7\n",
    "print(add_numbers(3.5, 4))  # Raise TypeError"
   ]
  },
  {
   "attachments": {},
   "cell_type": "markdown",
   "id": "f97ceeeb",
   "metadata": {},
   "source": [
    "### Write a decorator to log the result of a function to a log file."
   ]
  },
  {
   "cell_type": "code",
   "execution_count": 3,
   "id": "1eca0b49-3839-4655-8d24-4aaf45d4abab",
   "metadata": {},
   "outputs": [
    {
     "name": "stdout",
     "output_type": "stream",
     "text": [
      "6\n"
     ]
    }
   ],
   "source": [
    "def log_result(func):\n",
    "    def wrapper(*args, **kwargs):\n",
    "        result = func(*args, **kwargs)\n",
    "        with open(\"log.txt\", \"a\") as file:\n",
    "            file.write(f\"Result of {func.__name__}: {result}\\n\")\n",
    "        return result\n",
    "    return wrapper\n",
    "\n",
    "@log_result\n",
    "def multiply_numbers(a, b):\n",
    "    return a * b\n",
    "\n",
    "print(multiply_numbers(2, 3))  # Output: 6"
   ]
  },
  {
   "attachments": {},
   "cell_type": "markdown",
   "id": "e13a0563",
   "metadata": {},
   "source": [
    "### Write a decorator to cache the result of a function, avoiding re-computation for the same input"
   ]
  },
  {
   "cell_type": "code",
   "execution_count": 4,
   "id": "3d709fe4",
   "metadata": {},
   "outputs": [
    {
     "name": "stdout",
     "output_type": "stream",
     "text": [
      "Fetching result from cache\n",
      "Fetching result from cache\n",
      "Fetching result from cache\n",
      "5\n",
      "Fetching result from cache\n",
      "5\n"
     ]
    }
   ],
   "source": [
    "def cache_result(func):\n",
    "    cache = {}\n",
    "\n",
    "    def wrapper(*args, **kwargs):\n",
    "        key = str(args) + str(kwargs)\n",
    "        if key in cache:\n",
    "            print(\"Fetching result from cache\")\n",
    "            return cache[key]\n",
    "        result = func(*args, **kwargs)\n",
    "        cache[key] = result\n",
    "        return result\n",
    "\n",
    "    return wrapper\n",
    "\n",
    "@cache_result\n",
    "def fibonacci(n):\n",
    "    if n <= 1:\n",
    "        return n\n",
    "    return fibonacci(n-1) + fibonacci(n-2)\n",
    "\n",
    "print(fibonacci(5))  # Output: 5\n",
    "print(fibonacci(5))  # Output: 5 (fetching result from cache)"
   ]
  },
  {
   "cell_type": "code",
   "execution_count": null,
   "id": "289757a9",
   "metadata": {},
   "outputs": [],
   "source": []
  }
 ],
 "metadata": {
  "kernelspec": {
   "display_name": "Python 3 (ipykernel)",
   "language": "python",
   "name": "python3"
  },
  "language_info": {
   "codemirror_mode": {
    "name": "ipython",
    "version": 3
   },
   "file_extension": ".py",
   "mimetype": "text/x-python",
   "name": "python",
   "nbconvert_exporter": "python",
   "pygments_lexer": "ipython3",
   "version": "3.10.6"
  }
 },
 "nbformat": 4,
 "nbformat_minor": 5
}
