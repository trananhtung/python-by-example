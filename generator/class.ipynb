{
 "cells": [
  {
   "cell_type": "code",
   "execution_count": 3,
   "metadata": {},
   "outputs": [
    {
     "name": "stdout",
     "output_type": "stream",
     "text": [
      "0\n",
      "2\n",
      "4\n"
     ]
    }
   ],
   "source": [
    "class CountGenerator:\n",
    "    def __init__(self, start=0, step=1, stop=None):\n",
    "        self.start = start\n",
    "        self.step = step\n",
    "        self.stop = stop\n",
    "        self.current = start\n",
    "\n",
    "    def __iter__(self):\n",
    "        return self\n",
    "\n",
    "    def __next__(self):\n",
    "        if self.stop is not None and self.current >= self.stop:\n",
    "            raise StopIteration\n",
    "        else:\n",
    "            self.current += self.step\n",
    "            return self.current - self.step\n",
    "\n",
    "    def __repr__(self):\n",
    "        return f\"CountGenerator(start={self.start}, step={self.step}, stop={self.stop})\"\n",
    "\n",
    "    def __str__(self):\n",
    "        return f\"CountGenerator(start={self.start}, step={self.step}, stop={self.stop})\"\n",
    "\n",
    "    def __len__(self):\n",
    "        if self.stop is None:\n",
    "            raise TypeError(\"object of type 'CountGenerator' has no len()\")\n",
    "        else:\n",
    "            return (self.stop - self.start) // self.step\n",
    "\n",
    "    def __getitem__(self, index):\n",
    "        if self.stop is None:\n",
    "            raise TypeError(\"object of type 'CountGenerator' has no len()\")\n",
    "        else:\n",
    "            if index < 0:\n",
    "                index = len(self) + index\n",
    "            if index < 0 or index >= len(self):\n",
    "                raise IndexError(\"index out of range\")\n",
    "            return self.start + index * self.step\n",
    "\n",
    "    def __reversed__(self):\n",
    "        if self.stop is None:\n",
    "            raise TypeError(\"object of type 'CountGenerator' has no len()\")\n",
    "        else:\n",
    "            return CountGenerator(\n",
    "                self.stop - self.step, -self.step, self.start - self.step\n",
    "            )\n",
    "\n",
    "    def __contains__(self, item):\n",
    "        if self.stop is None:\n",
    "            raise TypeError(\"object of type 'CountGenerator' has no len()\")\n",
    "        else:\n",
    "            if item < self.start or item >= self.stop:\n",
    "                return False\n",
    "            else:\n",
    "                return (item - self.start) % self.step == 0\n",
    "\n",
    "    def __add__(self, other):\n",
    "        if isinstance(other, CountGenerator):\n",
    "            return CountGenerator(\n",
    "                self.start + other.start, self.step + other.step, self.stop + other.stop\n",
    "            )\n",
    "        else:\n",
    "            return CountGenerator(self.start + other, self.step, self.stop + other)\n",
    "\n",
    "    def __radd__(self, other):\n",
    "        return self.__add__(other)\n",
    "\n",
    "\n",
    "counter = CountGenerator(0, 2, 10)\n",
    "\n",
    "print(next(counter))\n",
    "print(next(counter))\n",
    "print(next(counter))"
   ]
  }
 ],
 "metadata": {
  "kernelspec": {
   "display_name": "Python 3",
   "language": "python",
   "name": "python3"
  },
  "language_info": {
   "codemirror_mode": {
    "name": "ipython",
    "version": 3
   },
   "file_extension": ".py",
   "mimetype": "text/x-python",
   "name": "python",
   "nbconvert_exporter": "python",
   "pygments_lexer": "ipython3",
   "version": "3.10.6"
  },
  "orig_nbformat": 4
 },
 "nbformat": 4,
 "nbformat_minor": 2
}
